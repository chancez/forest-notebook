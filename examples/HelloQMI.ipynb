{
 "cells": [
  {
   "cell_type": "markdown",
   "metadata": {},
   "source": [
    "# Hello QMI\n",
    "\n",
    "Welcome to your QMI! Your Quantum Machine Image is a virtual development and execution environment for quantum programming. It is hosted in close physical proximity to the QPUs in Rigetti’s quantum data center. This integrated platform eliminates the network latency found in web API access models, allowing you to iterate faster. It comes with a pre-configured Jupyter server that is a great way to get started writing quantum programs, and running them on the QVM and the QPU. Don't forget to also try connecting to your QMI via `ssh` (Secure Shell), and moving files to and from your QMI using Secure Copy (`scp`). For more information on this, check out our [documentation](https://www.rigetti.com/qcs/docs/getting-started-with-your-qmi#qmi).\n",
    "\n",
    "In this beginner's example, we are going to run a simple `hello_qmi()`. This function composes a simple quantum program, compiles it, and then runs it on the target device of your choice: either the QVM or a QPU. It is located in the `hello_qmi.py` file located in the home folder of your QMI at `/home/forest/hello_qmi.py`. You can browse to this file directly in Jupyter, or find it by `ssh`ing into your QMI."
   ]
  },
  {
   "cell_type": "markdown",
   "metadata": {},
   "source": [
    "## Imports\n",
    "\n",
    "To import `hello_qmi`, we must include in our path the folder in our QMI where it's located: one folder up from our current directory, or `..`."
   ]
  },
  {
   "cell_type": "code",
   "execution_count": null,
   "metadata": {},
   "outputs": [],
   "source": [
    "import os\n",
    "import sys\n",
    "sys.path.append(os.path.abspath(os.path.join('.')))\n",
    "from hello_qmi import hello_qmi, get_active_lattice"
   ]
  },
  {
   "cell_type": "markdown",
   "metadata": {},
   "source": [
    "## Run against the QVM Simulator\n",
    "\n",
    "The function `hello_qmi` takes an optional argument naming the device to target (the QVM or a QPU). If no argument is provided, the default device is a `9q-generic-qvm`."
   ]
  },
  {
   "cell_type": "code",
   "execution_count": null,
   "metadata": {},
   "outputs": [],
   "source": [
    "\"\"\"Reminder! Please take a look at hello_qmi.py, where this function resides,\n",
    "to see what program it is creating, how it compiles, and how it runs against\n",
    "the QVM.\"\"\"\n",
    "hello_qmi()"
   ]
  },
  {
   "cell_type": "markdown",
   "metadata": {},
   "source": [
    "Congratulations! You just ran your first program against the QVM simulator."
   ]
  },
  {
   "cell_type": "markdown",
   "metadata": {},
   "source": [
    "## Run against the real QPU\n",
    "To run against a real quantum computer, you only need to change the device argument to the `hello_qmi()` program. What QPU devices are available? We can use pyQuil to get a list."
   ]
  },
  {
   "cell_type": "code",
   "execution_count": null,
   "metadata": {},
   "outputs": [],
   "source": [
    "# Query available devices (QPUs)\n",
    "from pyquil.api._devices import list_devices, list_lattices"
   ]
  },
  {
   "cell_type": "code",
   "execution_count": null,
   "metadata": {},
   "outputs": [],
   "source": [
    "device_names = list_devices()  # Available devices are subject to change.\n",
    "lattice_names = list(list_lattices().keys())  # Available lattices are subject to change.\n",
    "print(f\"Available devices: {device_names}.\\n\")\n",
    "print(f\"Available lattices: {lattice_names}.\")"
   ]
  },
  {
   "cell_type": "markdown",
   "metadata": {},
   "source": [
    "### A quick note on lattices\n",
    "What are these lattices we just queried? They're subsets of qubits on a QPU, so you can use just the qubits you need. QCS not only makes QPU devices available, but also allows users to target subsets of qubits on each QPU, which we call _lattices_.\n",
    "\n",
    "So let's pick a lattice to target and pass it to the `hello_qmi` function. If you look in `hello_qmi`, you'll see that it's targeting qubits `[0, 1, 2]`. Let's find a lattice that includes these qubits."
   ]
  },
  {
   "cell_type": "code",
   "execution_count": null,
   "metadata": {},
   "outputs": [],
   "source": [
    "# ALERT: This will probably result in an error. Please see below.\n",
    "lattice_name = 'Aspen-7-2Q-C'\n",
    "hello_qmi(lattice_name)"
   ]
  },
  {
   "cell_type": "markdown",
   "metadata": {},
   "source": [
    "### Hey, why didn't that work?\n",
    "Did you get an error above? If so, **it's because you haven't yet booked time on the QPU**. QCS makes its QPUs available by reservation. You can book reservations via the [QCS Dashboard](https://qcs.rigetti.com/dashboard), or via the `qcs` command, which comes pre-installed in your QMI. If you've `ssh`'d into your QMI, you can type the following:\n",
    "\n",
    "```\n",
    "qcs reserve --lattice Aspen-1-2Q-B\n",
    "```\n",
    "\n",
    "Give it a try! Once your reservation begins, you can then re-run the above cell on the lattice you've booked, and get results from our QPU."
   ]
  },
  {
   "cell_type": "markdown",
   "metadata": {},
   "source": [
    "## Where to go from here\n",
    "\n",
    "This is just the beginning of your journey with QCS. Next, feel free to take a look under the hood at some of the QCS features that unlock the full potential of the platform for fast hybrid programming. These can be found in the other pre-loaded example notebooks. Or try writing some new notebooks of your own.\n",
    "\n",
    "As a gentle reminder, we recommend you learn how to `ssh` into your QMI, and move files to and from it via `scp` by following the docs [here](https://www.rigetti.com/qcs/docs/getting-started-with-your-qmi#qmi). If you have any trouble getting things set up, please reach out to support@rigetti.com.\n",
    "\n",
    "Happy quantum programming.\n",
    "\n",
    "*-- The QCS Team*"
   ]
  }
 ],
 "metadata": {
  "kernelspec": {
   "display_name": "Python 3",
   "language": "python",
   "name": "python3"
  },
  "language_info": {
   "codemirror_mode": {
    "name": "ipython",
    "version": 3
   },
   "file_extension": ".py",
   "mimetype": "text/x-python",
   "name": "python",
   "nbconvert_exporter": "python",
   "pygments_lexer": "ipython3",
   "version": "3.7.6"
  }
 },
 "nbformat": 4,
 "nbformat_minor": 4
}
